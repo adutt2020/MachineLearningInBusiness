{
 "cells": [
  {
   "cell_type": "markdown",
   "metadata": {},
   "source": [
    "# Sprint 9: Machine Learning in Business Project - OilyGiant "
   ]
  },
  {
   "cell_type": "markdown",
   "metadata": {},
   "source": [
    "**Project Description**\n",
    "\n",
    "I work for the OilyGiant mining company and my task is to find the best place for a new well.\n",
    "\n",
    "These will be the steps to choose the location:\n",
    "\n",
    "- Collect the oil well parameters in the selected region: oil quality and volume of reserves;\n",
    "- Build a model for predicting the volume of reserves in the new wells;\n",
    "- Pick the oil wells with the highest estimated values;\n",
    "- Pick the region with the highest total profit for the selected oil wells.\n",
    "- I have data on oil samples from three regions. Parameters of each oil well in the region are already known. I will build a model that will help to pick the region with the highest profit margin. I will analyze potential profit and risks using the Bootstrapping technique.\n",
    "\n",
    "DATA Description:\n",
    "- I have been given exploration data for three regions stored in three files. \n",
    " - id — unique oil well identifier\n",
    " - f0, f1, f2 — three features of points (their specific meaning is unimportant, but the features themselves are significant)\n",
    " - product — volume of reserves in the oil well (thousand barrels).\n",
    "\n",
    "CONDITIONS:\n",
    "\n",
    "- Only linear regression is suitable for model training (the rest are not sufficiently predictable).\n",
    "- When exploring the region, a study of 500 points is carried with picking the best 200 points for the profit calculation.\n",
    "- The budget for development of 200 oil wells is 100 USD million.\n",
    "- One barrel of raw materials brings 4.5 USD of revenue The revenue from one unit of product is 4,500 dollars (volume of reserves is in thousand barrels).\n",
    "- After the risk evaluation, keep only the regions with the risk of losses lower than 2.5%. From the ones that fit the criteria, the region with the highest average profit should be selected.\n",
    "\n",
    "The data is synthetic: contract details and well characteristics are not disclosed."
   ]
  },
  {
   "cell_type": "markdown",
   "metadata": {},
   "source": [
    "## Download and Prepare Data "
   ]
  },
  {
   "cell_type": "code",
   "execution_count": 1,
   "metadata": {},
   "outputs": [],
   "source": [
    "# Importing libraries relevant to project \n",
    "import pandas as pd\n",
    "import numpy as np\n",
    "from sklearn.preprocessing import StandardScaler\n",
    "from sklearn.linear_model import LinearRegression \n",
    "from sklearn.model_selection import train_test_split \n",
    "from sklearn.metrics import mean_squared_error, r2_score\n",
    "from scipy import stats as st\n",
    "import seaborn as sns\n",
    "import matplotlib.pyplot as plt\n",
    "import plotly.express as px"
   ]
  },
  {
   "cell_type": "code",
   "execution_count": 2,
   "metadata": {},
   "outputs": [],
   "source": [
    "# Reading the data\n",
    "df_0 = pd.read_csv('/datasets/geo_data_0.csv')\n",
    "df_1 = pd.read_csv('/datasets/geo_data_1.csv')\n",
    "df_2 = pd.read_csv('/datasets/geo_data_2.csv')"
   ]
  },
  {
   "cell_type": "code",
   "execution_count": 3,
   "metadata": {},
   "outputs": [
    {
     "name": "stdout",
     "output_type": "stream",
     "text": [
      "<class 'pandas.core.frame.DataFrame'>\n",
      "RangeIndex: 100000 entries, 0 to 99999\n",
      "Data columns (total 5 columns):\n",
      " #   Column   Non-Null Count   Dtype  \n",
      "---  ------   --------------   -----  \n",
      " 0   id       100000 non-null  object \n",
      " 1   f0       100000 non-null  float64\n",
      " 2   f1       100000 non-null  float64\n",
      " 3   f2       100000 non-null  float64\n",
      " 4   product  100000 non-null  float64\n",
      "dtypes: float64(4), object(1)\n",
      "memory usage: 3.8+ MB\n"
     ]
    },
    {
     "data": {
      "text/plain": [
       "(100000, 5)"
      ]
     },
     "metadata": {},
     "output_type": "display_data"
    },
    {
     "data": {
      "text/html": [
       "<div>\n",
       "<style scoped>\n",
       "    .dataframe tbody tr th:only-of-type {\n",
       "        vertical-align: middle;\n",
       "    }\n",
       "\n",
       "    .dataframe tbody tr th {\n",
       "        vertical-align: top;\n",
       "    }\n",
       "\n",
       "    .dataframe thead th {\n",
       "        text-align: right;\n",
       "    }\n",
       "</style>\n",
       "<table border=\"1\" class=\"dataframe\">\n",
       "  <thead>\n",
       "    <tr style=\"text-align: right;\">\n",
       "      <th></th>\n",
       "      <th>id</th>\n",
       "      <th>f0</th>\n",
       "      <th>f1</th>\n",
       "      <th>f2</th>\n",
       "      <th>product</th>\n",
       "    </tr>\n",
       "  </thead>\n",
       "  <tbody>\n",
       "    <tr>\n",
       "      <th>0</th>\n",
       "      <td>txEyH</td>\n",
       "      <td>0.705745</td>\n",
       "      <td>-0.497823</td>\n",
       "      <td>1.221170</td>\n",
       "      <td>105.280062</td>\n",
       "    </tr>\n",
       "    <tr>\n",
       "      <th>1</th>\n",
       "      <td>2acmU</td>\n",
       "      <td>1.334711</td>\n",
       "      <td>-0.340164</td>\n",
       "      <td>4.365080</td>\n",
       "      <td>73.037750</td>\n",
       "    </tr>\n",
       "    <tr>\n",
       "      <th>2</th>\n",
       "      <td>409Wp</td>\n",
       "      <td>1.022732</td>\n",
       "      <td>0.151990</td>\n",
       "      <td>1.419926</td>\n",
       "      <td>85.265647</td>\n",
       "    </tr>\n",
       "    <tr>\n",
       "      <th>3</th>\n",
       "      <td>iJLyR</td>\n",
       "      <td>-0.032172</td>\n",
       "      <td>0.139033</td>\n",
       "      <td>2.978566</td>\n",
       "      <td>168.620776</td>\n",
       "    </tr>\n",
       "    <tr>\n",
       "      <th>4</th>\n",
       "      <td>Xdl7t</td>\n",
       "      <td>1.988431</td>\n",
       "      <td>0.155413</td>\n",
       "      <td>4.751769</td>\n",
       "      <td>154.036647</td>\n",
       "    </tr>\n",
       "    <tr>\n",
       "      <th>5</th>\n",
       "      <td>wX4Hy</td>\n",
       "      <td>0.969570</td>\n",
       "      <td>0.489775</td>\n",
       "      <td>-0.735383</td>\n",
       "      <td>64.741541</td>\n",
       "    </tr>\n",
       "    <tr>\n",
       "      <th>6</th>\n",
       "      <td>tL6pL</td>\n",
       "      <td>0.645075</td>\n",
       "      <td>0.530656</td>\n",
       "      <td>1.780266</td>\n",
       "      <td>49.055285</td>\n",
       "    </tr>\n",
       "    <tr>\n",
       "      <th>7</th>\n",
       "      <td>BYPU6</td>\n",
       "      <td>-0.400648</td>\n",
       "      <td>0.808337</td>\n",
       "      <td>-5.624670</td>\n",
       "      <td>72.943292</td>\n",
       "    </tr>\n",
       "    <tr>\n",
       "      <th>8</th>\n",
       "      <td>j9Oui</td>\n",
       "      <td>0.643105</td>\n",
       "      <td>-0.551583</td>\n",
       "      <td>2.372141</td>\n",
       "      <td>113.356160</td>\n",
       "    </tr>\n",
       "    <tr>\n",
       "      <th>9</th>\n",
       "      <td>OLuZU</td>\n",
       "      <td>2.173381</td>\n",
       "      <td>0.563698</td>\n",
       "      <td>9.441852</td>\n",
       "      <td>127.910945</td>\n",
       "    </tr>\n",
       "  </tbody>\n",
       "</table>\n",
       "</div>"
      ],
      "text/plain": [
       "      id        f0        f1        f2     product\n",
       "0  txEyH  0.705745 -0.497823  1.221170  105.280062\n",
       "1  2acmU  1.334711 -0.340164  4.365080   73.037750\n",
       "2  409Wp  1.022732  0.151990  1.419926   85.265647\n",
       "3  iJLyR -0.032172  0.139033  2.978566  168.620776\n",
       "4  Xdl7t  1.988431  0.155413  4.751769  154.036647\n",
       "5  wX4Hy  0.969570  0.489775 -0.735383   64.741541\n",
       "6  tL6pL  0.645075  0.530656  1.780266   49.055285\n",
       "7  BYPU6 -0.400648  0.808337 -5.624670   72.943292\n",
       "8  j9Oui  0.643105 -0.551583  2.372141  113.356160\n",
       "9  OLuZU  2.173381  0.563698  9.441852  127.910945"
      ]
     },
     "metadata": {},
     "output_type": "display_data"
    },
    {
     "data": {
      "text/html": [
       "<div>\n",
       "<style scoped>\n",
       "    .dataframe tbody tr th:only-of-type {\n",
       "        vertical-align: middle;\n",
       "    }\n",
       "\n",
       "    .dataframe tbody tr th {\n",
       "        vertical-align: top;\n",
       "    }\n",
       "\n",
       "    .dataframe thead th {\n",
       "        text-align: right;\n",
       "    }\n",
       "</style>\n",
       "<table border=\"1\" class=\"dataframe\">\n",
       "  <thead>\n",
       "    <tr style=\"text-align: right;\">\n",
       "      <th></th>\n",
       "      <th>f0</th>\n",
       "      <th>f1</th>\n",
       "      <th>f2</th>\n",
       "      <th>product</th>\n",
       "    </tr>\n",
       "  </thead>\n",
       "  <tbody>\n",
       "    <tr>\n",
       "      <th>count</th>\n",
       "      <td>100000.000000</td>\n",
       "      <td>100000.000000</td>\n",
       "      <td>100000.000000</td>\n",
       "      <td>100000.000000</td>\n",
       "    </tr>\n",
       "    <tr>\n",
       "      <th>mean</th>\n",
       "      <td>0.500419</td>\n",
       "      <td>0.250143</td>\n",
       "      <td>2.502647</td>\n",
       "      <td>92.500000</td>\n",
       "    </tr>\n",
       "    <tr>\n",
       "      <th>std</th>\n",
       "      <td>0.871832</td>\n",
       "      <td>0.504433</td>\n",
       "      <td>3.248248</td>\n",
       "      <td>44.288691</td>\n",
       "    </tr>\n",
       "    <tr>\n",
       "      <th>min</th>\n",
       "      <td>-1.408605</td>\n",
       "      <td>-0.848218</td>\n",
       "      <td>-12.088328</td>\n",
       "      <td>0.000000</td>\n",
       "    </tr>\n",
       "    <tr>\n",
       "      <th>25%</th>\n",
       "      <td>-0.072580</td>\n",
       "      <td>-0.200881</td>\n",
       "      <td>0.287748</td>\n",
       "      <td>56.497507</td>\n",
       "    </tr>\n",
       "    <tr>\n",
       "      <th>50%</th>\n",
       "      <td>0.502360</td>\n",
       "      <td>0.250252</td>\n",
       "      <td>2.515969</td>\n",
       "      <td>91.849972</td>\n",
       "    </tr>\n",
       "    <tr>\n",
       "      <th>75%</th>\n",
       "      <td>1.073581</td>\n",
       "      <td>0.700646</td>\n",
       "      <td>4.715088</td>\n",
       "      <td>128.564089</td>\n",
       "    </tr>\n",
       "    <tr>\n",
       "      <th>max</th>\n",
       "      <td>2.362331</td>\n",
       "      <td>1.343769</td>\n",
       "      <td>16.003790</td>\n",
       "      <td>185.364347</td>\n",
       "    </tr>\n",
       "  </tbody>\n",
       "</table>\n",
       "</div>"
      ],
      "text/plain": [
       "                  f0             f1             f2        product\n",
       "count  100000.000000  100000.000000  100000.000000  100000.000000\n",
       "mean        0.500419       0.250143       2.502647      92.500000\n",
       "std         0.871832       0.504433       3.248248      44.288691\n",
       "min        -1.408605      -0.848218     -12.088328       0.000000\n",
       "25%        -0.072580      -0.200881       0.287748      56.497507\n",
       "50%         0.502360       0.250252       2.515969      91.849972\n",
       "75%         1.073581       0.700646       4.715088     128.564089\n",
       "max         2.362331       1.343769      16.003790     185.364347"
      ]
     },
     "metadata": {},
     "output_type": "display_data"
    }
   ],
   "source": [
    "# Review Data for df_0\n",
    "df_0.info()\n",
    "display(df_0.shape)\n",
    "display(df_0.head(10))\n",
    "display(df_0.describe())"
   ]
  },
  {
   "cell_type": "code",
   "execution_count": 4,
   "metadata": {},
   "outputs": [
    {
     "data": {
      "text/plain": [
       "0"
      ]
     },
     "execution_count": 4,
     "metadata": {},
     "output_type": "execute_result"
    }
   ],
   "source": [
    "# Checking for duplicates\n",
    "df_0.duplicated().sum()"
   ]
  },
  {
   "cell_type": "code",
   "execution_count": 5,
   "metadata": {},
   "outputs": [
    {
     "data": {
      "text/plain": [
       "id         0\n",
       "f0         0\n",
       "f1         0\n",
       "f2         0\n",
       "product    0\n",
       "dtype: int64"
      ]
     },
     "execution_count": 5,
     "metadata": {},
     "output_type": "execute_result"
    }
   ],
   "source": [
    "# Checking for missing values\n",
    "df_0.isnull().sum()"
   ]
  },
  {
   "cell_type": "code",
   "execution_count": 38,
   "metadata": {},
   "outputs": [
    {
     "data": {
      "text/html": [
       "<div>\n",
       "<style scoped>\n",
       "    .dataframe tbody tr th:only-of-type {\n",
       "        vertical-align: middle;\n",
       "    }\n",
       "\n",
       "    .dataframe tbody tr th {\n",
       "        vertical-align: top;\n",
       "    }\n",
       "\n",
       "    .dataframe thead th {\n",
       "        text-align: right;\n",
       "    }\n",
       "</style>\n",
       "<table border=\"1\" class=\"dataframe\">\n",
       "  <thead>\n",
       "    <tr style=\"text-align: right;\">\n",
       "      <th></th>\n",
       "      <th>f0</th>\n",
       "      <th>f1</th>\n",
       "      <th>f2</th>\n",
       "      <th>product</th>\n",
       "    </tr>\n",
       "  </thead>\n",
       "  <tbody>\n",
       "    <tr>\n",
       "      <th>f0</th>\n",
       "      <td>1.000000</td>\n",
       "      <td>-0.440723</td>\n",
       "      <td>-0.003153</td>\n",
       "      <td>0.143536</td>\n",
       "    </tr>\n",
       "    <tr>\n",
       "      <th>f1</th>\n",
       "      <td>-0.440723</td>\n",
       "      <td>1.000000</td>\n",
       "      <td>0.001724</td>\n",
       "      <td>-0.192356</td>\n",
       "    </tr>\n",
       "    <tr>\n",
       "      <th>f2</th>\n",
       "      <td>-0.003153</td>\n",
       "      <td>0.001724</td>\n",
       "      <td>1.000000</td>\n",
       "      <td>0.483663</td>\n",
       "    </tr>\n",
       "    <tr>\n",
       "      <th>product</th>\n",
       "      <td>0.143536</td>\n",
       "      <td>-0.192356</td>\n",
       "      <td>0.483663</td>\n",
       "      <td>1.000000</td>\n",
       "    </tr>\n",
       "  </tbody>\n",
       "</table>\n",
       "</div>"
      ],
      "text/plain": [
       "               f0        f1        f2   product\n",
       "f0       1.000000 -0.440723 -0.003153  0.143536\n",
       "f1      -0.440723  1.000000  0.001724 -0.192356\n",
       "f2      -0.003153  0.001724  1.000000  0.483663\n",
       "product  0.143536 -0.192356  0.483663  1.000000"
      ]
     },
     "execution_count": 38,
     "metadata": {},
     "output_type": "execute_result"
    }
   ],
   "source": [
    "#Checking Correlation\n",
    "df_0.corr()"
   ]
  },
  {
   "cell_type": "code",
   "execution_count": 35,
   "metadata": {
    "scrolled": true
   },
   "outputs": [
    {
     "data": {
      "image/png": "[encoded data removed]",
      "text/plain": [
       "<Figure size 1000x1000 with 4 Axes>"
      ]
     },
     "metadata": {},
     "output_type": "display_data"
    }
   ],
   "source": [
    "#Plotting Distribution\n",
    "\n",
    "columns = ['f0', 'f1', 'f2', 'product']\n",
    "titles = ['f0', 'f1', 'f2', 'product']\n",
    "def plot_hist(data):\n",
    "    data.hist(column=columns, figsize=(10,10))\n",
    "\n",
    "plot_hist(df_0)"
   ]
  },
  {
   "cell_type": "markdown",
   "metadata": {},
   "source": [
    "**Data Review**\n",
    "Overall, this data presents very clean. I found no duplicates or missing values. There are 100,000 rows and 5 columns. The mean (0.500419;0.250143;2.502647) and median (0.502360;0.250252;2.515969) values are very close to each other. We can assume there's a reasonable distribution of data. "
   ]
  },
  {
   "cell_type": "code",
   "execution_count": 6,
   "metadata": {},
   "outputs": [
    {
     "name": "stdout",
     "output_type": "stream",
     "text": [
      "<class 'pandas.core.frame.DataFrame'>\n",
      "RangeIndex: 100000 entries, 0 to 99999\n",
      "Data columns (total 5 columns):\n",
      " #   Column   Non-Null Count   Dtype  \n",
      "---  ------   --------------   -----  \n",
      " 0   id       100000 non-null  object \n",
      " 1   f0       100000 non-null  float64\n",
      " 2   f1       100000 non-null  float64\n",
      " 3   f2       100000 non-null  float64\n",
      " 4   product  100000 non-null  float64\n",
      "dtypes: float64(4), object(1)\n",
      "memory usage: 3.8+ MB\n"
     ]
    },
    {
     "data": {
      "text/plain": [
       "(100000, 5)"
      ]
     },
     "metadata": {},
     "output_type": "display_data"
    },
    {
     "data": {
      "text/html": [
       "<div>\n",
       "<style scoped>\n",
       "    .dataframe tbody tr th:only-of-type {\n",
       "        vertical-align: middle;\n",
       "    }\n",
       "\n",
       "    .dataframe tbody tr th {\n",
       "        vertical-align: top;\n",
       "    }\n",
       "\n",
       "    .dataframe thead th {\n",
       "        text-align: right;\n",
       "    }\n",
       "</style>\n",
       "<table border=\"1\" class=\"dataframe\">\n",
       "  <thead>\n",
       "    <tr style=\"text-align: right;\">\n",
       "      <th></th>\n",
       "      <th>id</th>\n",
       "      <th>f0</th>\n",
       "      <th>f1</th>\n",
       "      <th>f2</th>\n",
       "      <th>product</th>\n",
       "    </tr>\n",
       "  </thead>\n",
       "  <tbody>\n",
       "    <tr>\n",
       "      <th>0</th>\n",
       "      <td>kBEdx</td>\n",
       "      <td>-15.001348</td>\n",
       "      <td>-8.276000</td>\n",
       "      <td>-0.005876</td>\n",
       "      <td>3.179103</td>\n",
       "    </tr>\n",
       "    <tr>\n",
       "      <th>1</th>\n",
       "      <td>62mP7</td>\n",
       "      <td>14.272088</td>\n",
       "      <td>-3.475083</td>\n",
       "      <td>0.999183</td>\n",
       "      <td>26.953261</td>\n",
       "    </tr>\n",
       "    <tr>\n",
       "      <th>2</th>\n",
       "      <td>vyE1P</td>\n",
       "      <td>6.263187</td>\n",
       "      <td>-5.948386</td>\n",
       "      <td>5.001160</td>\n",
       "      <td>134.766305</td>\n",
       "    </tr>\n",
       "    <tr>\n",
       "      <th>3</th>\n",
       "      <td>KcrkZ</td>\n",
       "      <td>-13.081196</td>\n",
       "      <td>-11.506057</td>\n",
       "      <td>4.999415</td>\n",
       "      <td>137.945408</td>\n",
       "    </tr>\n",
       "    <tr>\n",
       "      <th>4</th>\n",
       "      <td>AHL4O</td>\n",
       "      <td>12.702195</td>\n",
       "      <td>-8.147433</td>\n",
       "      <td>5.004363</td>\n",
       "      <td>134.766305</td>\n",
       "    </tr>\n",
       "    <tr>\n",
       "      <th>5</th>\n",
       "      <td>HHckp</td>\n",
       "      <td>-3.327590</td>\n",
       "      <td>-2.205276</td>\n",
       "      <td>3.003647</td>\n",
       "      <td>84.038886</td>\n",
       "    </tr>\n",
       "    <tr>\n",
       "      <th>6</th>\n",
       "      <td>h5Ujo</td>\n",
       "      <td>-11.142655</td>\n",
       "      <td>-10.133399</td>\n",
       "      <td>4.002382</td>\n",
       "      <td>110.992147</td>\n",
       "    </tr>\n",
       "    <tr>\n",
       "      <th>7</th>\n",
       "      <td>muH9x</td>\n",
       "      <td>4.234715</td>\n",
       "      <td>-0.001354</td>\n",
       "      <td>2.004588</td>\n",
       "      <td>53.906522</td>\n",
       "    </tr>\n",
       "    <tr>\n",
       "      <th>8</th>\n",
       "      <td>YiRkx</td>\n",
       "      <td>13.355129</td>\n",
       "      <td>-0.332068</td>\n",
       "      <td>4.998647</td>\n",
       "      <td>134.766305</td>\n",
       "    </tr>\n",
       "    <tr>\n",
       "      <th>9</th>\n",
       "      <td>jG6Gi</td>\n",
       "      <td>1.069227</td>\n",
       "      <td>-11.025667</td>\n",
       "      <td>4.997844</td>\n",
       "      <td>137.945408</td>\n",
       "    </tr>\n",
       "  </tbody>\n",
       "</table>\n",
       "</div>"
      ],
      "text/plain": [
       "      id         f0         f1        f2     product\n",
       "0  kBEdx -15.001348  -8.276000 -0.005876    3.179103\n",
       "1  62mP7  14.272088  -3.475083  0.999183   26.953261\n",
       "2  vyE1P   6.263187  -5.948386  5.001160  134.766305\n",
       "3  KcrkZ -13.081196 -11.506057  4.999415  137.945408\n",
       "4  AHL4O  12.702195  -8.147433  5.004363  134.766305\n",
       "5  HHckp  -3.327590  -2.205276  3.003647   84.038886\n",
       "6  h5Ujo -11.142655 -10.133399  4.002382  110.992147\n",
       "7  muH9x   4.234715  -0.001354  2.004588   53.906522\n",
       "8  YiRkx  13.355129  -0.332068  4.998647  134.766305\n",
       "9  jG6Gi   1.069227 -11.025667  4.997844  137.945408"
      ]
     },
     "metadata": {},
     "output_type": "display_data"
    },
    {
     "data": {
      "text/html": [
       "<div>\n",
       "<style scoped>\n",
       "    .dataframe tbody tr th:only-of-type {\n",
       "        vertical-align: middle;\n",
       "    }\n",
       "\n",
       "    .dataframe tbody tr th {\n",
       "        vertical-align: top;\n",
       "    }\n",
       "\n",
       "    .dataframe thead th {\n",
       "        text-align: right;\n",
       "    }\n",
       "</style>\n",
       "<table border=\"1\" class=\"dataframe\">\n",
       "  <thead>\n",
       "    <tr style=\"text-align: right;\">\n",
       "      <th></th>\n",
       "      <th>f0</th>\n",
       "      <th>f1</th>\n",
       "      <th>f2</th>\n",
       "      <th>product</th>\n",
       "    </tr>\n",
       "  </thead>\n",
       "  <tbody>\n",
       "    <tr>\n",
       "      <th>count</th>\n",
       "      <td>100000.000000</td>\n",
       "      <td>100000.000000</td>\n",
       "      <td>100000.000000</td>\n",
       "      <td>100000.000000</td>\n",
       "    </tr>\n",
       "    <tr>\n",
       "      <th>mean</th>\n",
       "      <td>1.141296</td>\n",
       "      <td>-4.796579</td>\n",
       "      <td>2.494541</td>\n",
       "      <td>68.825000</td>\n",
       "    </tr>\n",
       "    <tr>\n",
       "      <th>std</th>\n",
       "      <td>8.965932</td>\n",
       "      <td>5.119872</td>\n",
       "      <td>1.703572</td>\n",
       "      <td>45.944423</td>\n",
       "    </tr>\n",
       "    <tr>\n",
       "      <th>min</th>\n",
       "      <td>-31.609576</td>\n",
       "      <td>-26.358598</td>\n",
       "      <td>-0.018144</td>\n",
       "      <td>0.000000</td>\n",
       "    </tr>\n",
       "    <tr>\n",
       "      <th>25%</th>\n",
       "      <td>-6.298551</td>\n",
       "      <td>-8.267985</td>\n",
       "      <td>1.000021</td>\n",
       "      <td>26.953261</td>\n",
       "    </tr>\n",
       "    <tr>\n",
       "      <th>50%</th>\n",
       "      <td>1.153055</td>\n",
       "      <td>-4.813172</td>\n",
       "      <td>2.011479</td>\n",
       "      <td>57.085625</td>\n",
       "    </tr>\n",
       "    <tr>\n",
       "      <th>75%</th>\n",
       "      <td>8.621015</td>\n",
       "      <td>-1.332816</td>\n",
       "      <td>3.999904</td>\n",
       "      <td>107.813044</td>\n",
       "    </tr>\n",
       "    <tr>\n",
       "      <th>max</th>\n",
       "      <td>29.421755</td>\n",
       "      <td>18.734063</td>\n",
       "      <td>5.019721</td>\n",
       "      <td>137.945408</td>\n",
       "    </tr>\n",
       "  </tbody>\n",
       "</table>\n",
       "</div>"
      ],
      "text/plain": [
       "                  f0             f1             f2        product\n",
       "count  100000.000000  100000.000000  100000.000000  100000.000000\n",
       "mean        1.141296      -4.796579       2.494541      68.825000\n",
       "std         8.965932       5.119872       1.703572      45.944423\n",
       "min       -31.609576     -26.358598      -0.018144       0.000000\n",
       "25%        -6.298551      -8.267985       1.000021      26.953261\n",
       "50%         1.153055      -4.813172       2.011479      57.085625\n",
       "75%         8.621015      -1.332816       3.999904     107.813044\n",
       "max        29.421755      18.734063       5.019721     137.945408"
      ]
     },
     "metadata": {},
     "output_type": "display_data"
    }
   ],
   "source": [
    "# Review Data for df_1\n",
    "df_1.info()\n",
    "display(df_1.shape)\n",
    "display(df_1.head(10))\n",
    "display(df_1.describe())"
   ]
  },
  {
   "cell_type": "code",
   "execution_count": 7,
   "metadata": {},
   "outputs": [
    {
     "data": {
      "text/plain": [
       "0"
      ]
     },
     "execution_count": 7,
     "metadata": {},
     "output_type": "execute_result"
    }
   ],
   "source": [
    "# Checking for duplicates\n",
    "df_1.duplicated().sum()"
   ]
  },
  {
   "cell_type": "code",
   "execution_count": 8,
   "metadata": {},
   "outputs": [
    {
     "data": {
      "text/plain": [
       "id         0\n",
       "f0         0\n",
       "f1         0\n",
       "f2         0\n",
       "product    0\n",
       "dtype: int64"
      ]
     },
     "execution_count": 8,
     "metadata": {},
     "output_type": "execute_result"
    }
   ],
   "source": [
    "# Checking for missing values\n",
    "df_1.isnull().sum()"
   ]
  },
  {
   "cell_type": "code",
   "execution_count": 39,
   "metadata": {},
   "outputs": [
    {
     "data": {
      "text/html": [
       "<div>\n",
       "<style scoped>\n",
       "    .dataframe tbody tr th:only-of-type {\n",
       "        vertical-align: middle;\n",
       "    }\n",
       "\n",
       "    .dataframe tbody tr th {\n",
       "        vertical-align: top;\n",
       "    }\n",
       "\n",
       "    .dataframe thead th {\n",
       "        text-align: right;\n",
       "    }\n",
       "</style>\n",
       "<table border=\"1\" class=\"dataframe\">\n",
       "  <thead>\n",
       "    <tr style=\"text-align: right;\">\n",
       "      <th></th>\n",
       "      <th>f0</th>\n",
       "      <th>f1</th>\n",
       "      <th>f2</th>\n",
       "      <th>product</th>\n",
       "    </tr>\n",
       "  </thead>\n",
       "  <tbody>\n",
       "    <tr>\n",
       "      <th>f0</th>\n",
       "      <td>1.000000</td>\n",
       "      <td>0.182287</td>\n",
       "      <td>-0.001777</td>\n",
       "      <td>-0.030491</td>\n",
       "    </tr>\n",
       "    <tr>\n",
       "      <th>f1</th>\n",
       "      <td>0.182287</td>\n",
       "      <td>1.000000</td>\n",
       "      <td>-0.002595</td>\n",
       "      <td>-0.010155</td>\n",
       "    </tr>\n",
       "    <tr>\n",
       "      <th>f2</th>\n",
       "      <td>-0.001777</td>\n",
       "      <td>-0.002595</td>\n",
       "      <td>1.000000</td>\n",
       "      <td>0.999397</td>\n",
       "    </tr>\n",
       "    <tr>\n",
       "      <th>product</th>\n",
       "      <td>-0.030491</td>\n",
       "      <td>-0.010155</td>\n",
       "      <td>0.999397</td>\n",
       "      <td>1.000000</td>\n",
       "    </tr>\n",
       "  </tbody>\n",
       "</table>\n",
       "</div>"
      ],
      "text/plain": [
       "               f0        f1        f2   product\n",
       "f0       1.000000  0.182287 -0.001777 -0.030491\n",
       "f1       0.182287  1.000000 -0.002595 -0.010155\n",
       "f2      -0.001777 -0.002595  1.000000  0.999397\n",
       "product -0.030491 -0.010155  0.999397  1.000000"
      ]
     },
     "execution_count": 39,
     "metadata": {},
     "output_type": "execute_result"
    }
   ],
   "source": [
    "#Checking Correlation\n",
    "df_1.corr()"
   ]
  },
  {
   "cell_type": "code",
   "execution_count": 36,
   "metadata": {},
   "outputs": [
    {
     "data": {
      "image/png": "[encoded data removed]",
      "text/plain": [
       "<Figure size 1000x1000 with 4 Axes>"
      ]
     },
     "metadata": {},
     "output_type": "display_data"
    }
   ],
   "source": [
    "#Plotting Distribution\n",
    "\n",
    "plot_hist(df_1)"
   ]
  },
  {
   "cell_type": "markdown",
   "metadata": {},
   "source": [
    "**Data Review**\n",
    "Yay for another clean set of data! Hooray! There is also 100,000 rows with 5 columns for the data. \n",
    "\n",
    "However, compared to the previous dataset, there is a bigger difference between the means and the medians. Most notably so in the f2 and product columns. We can assume that there will be outliers in the dataset. "
   ]
  },
  {
   "cell_type": "code",
   "execution_count": 9,
   "metadata": {},
   "outputs": [
    {
     "name": "stdout",
     "output_type": "stream",
     "text": [
      "<class 'pandas.core.frame.DataFrame'>\n",
      "RangeIndex: 100000 entries, 0 to 99999\n",
      "Data columns (total 5 columns):\n",
      " #   Column   Non-Null Count   Dtype  \n",
      "---  ------   --------------   -----  \n",
      " 0   id       100000 non-null  object \n",
      " 1   f0       100000 non-null  float64\n",
      " 2   f1       100000 non-null  float64\n",
      " 3   f2       100000 non-null  float64\n",
      " 4   product  100000 non-null  float64\n",
      "dtypes: float64(4), object(1)\n",
      "memory usage: 3.8+ MB\n"
     ]
    },
    {
     "data": {
      "text/plain": [
       "(100000, 5)"
      ]
     },
     "metadata": {},
     "output_type": "display_data"
    },
    {
     "data": {
      "text/html": [
       "<div>\n",
       "<style scoped>\n",
       "    .dataframe tbody tr th:only-of-type {\n",
       "        vertical-align: middle;\n",
       "    }\n",
       "\n",
       "    .dataframe tbody tr th {\n",
       "        vertical-align: top;\n",
       "    }\n",
       "\n",
       "    .dataframe thead th {\n",
       "        text-align: right;\n",
       "    }\n",
       "</style>\n",
       "<table border=\"1\" class=\"dataframe\">\n",
       "  <thead>\n",
       "    <tr style=\"text-align: right;\">\n",
       "      <th></th>\n",
       "      <th>id</th>\n",
       "      <th>f0</th>\n",
       "      <th>f1</th>\n",
       "      <th>f2</th>\n",
       "      <th>product</th>\n",
       "    </tr>\n",
       "  </thead>\n",
       "  <tbody>\n",
       "    <tr>\n",
       "      <th>0</th>\n",
       "      <td>fwXo0</td>\n",
       "      <td>-1.146987</td>\n",
       "      <td>0.963328</td>\n",
       "      <td>-0.828965</td>\n",
       "      <td>27.758673</td>\n",
       "    </tr>\n",
       "    <tr>\n",
       "      <th>1</th>\n",
       "      <td>WJtFt</td>\n",
       "      <td>0.262778</td>\n",
       "      <td>0.269839</td>\n",
       "      <td>-2.530187</td>\n",
       "      <td>56.069697</td>\n",
       "    </tr>\n",
       "    <tr>\n",
       "      <th>2</th>\n",
       "      <td>ovLUW</td>\n",
       "      <td>0.194587</td>\n",
       "      <td>0.289035</td>\n",
       "      <td>-5.586433</td>\n",
       "      <td>62.871910</td>\n",
       "    </tr>\n",
       "    <tr>\n",
       "      <th>3</th>\n",
       "      <td>q6cA6</td>\n",
       "      <td>2.236060</td>\n",
       "      <td>-0.553760</td>\n",
       "      <td>0.930038</td>\n",
       "      <td>114.572842</td>\n",
       "    </tr>\n",
       "    <tr>\n",
       "      <th>4</th>\n",
       "      <td>WPMUX</td>\n",
       "      <td>-0.515993</td>\n",
       "      <td>1.716266</td>\n",
       "      <td>5.899011</td>\n",
       "      <td>149.600746</td>\n",
       "    </tr>\n",
       "    <tr>\n",
       "      <th>5</th>\n",
       "      <td>LzZXx</td>\n",
       "      <td>-0.758092</td>\n",
       "      <td>0.710691</td>\n",
       "      <td>2.585887</td>\n",
       "      <td>90.222465</td>\n",
       "    </tr>\n",
       "    <tr>\n",
       "      <th>6</th>\n",
       "      <td>WBHRv</td>\n",
       "      <td>-0.574891</td>\n",
       "      <td>0.317727</td>\n",
       "      <td>1.773745</td>\n",
       "      <td>45.641478</td>\n",
       "    </tr>\n",
       "    <tr>\n",
       "      <th>7</th>\n",
       "      <td>XO8fn</td>\n",
       "      <td>-1.906649</td>\n",
       "      <td>-2.458350</td>\n",
       "      <td>-0.177097</td>\n",
       "      <td>72.480640</td>\n",
       "    </tr>\n",
       "    <tr>\n",
       "      <th>8</th>\n",
       "      <td>ybmQ5</td>\n",
       "      <td>1.776292</td>\n",
       "      <td>-0.279356</td>\n",
       "      <td>3.004156</td>\n",
       "      <td>106.616832</td>\n",
       "    </tr>\n",
       "    <tr>\n",
       "      <th>9</th>\n",
       "      <td>OilcN</td>\n",
       "      <td>-1.214452</td>\n",
       "      <td>-0.439314</td>\n",
       "      <td>5.922514</td>\n",
       "      <td>52.954532</td>\n",
       "    </tr>\n",
       "  </tbody>\n",
       "</table>\n",
       "</div>"
      ],
      "text/plain": [
       "      id        f0        f1        f2     product\n",
       "0  fwXo0 -1.146987  0.963328 -0.828965   27.758673\n",
       "1  WJtFt  0.262778  0.269839 -2.530187   56.069697\n",
       "2  ovLUW  0.194587  0.289035 -5.586433   62.871910\n",
       "3  q6cA6  2.236060 -0.553760  0.930038  114.572842\n",
       "4  WPMUX -0.515993  1.716266  5.899011  149.600746\n",
       "5  LzZXx -0.758092  0.710691  2.585887   90.222465\n",
       "6  WBHRv -0.574891  0.317727  1.773745   45.641478\n",
       "7  XO8fn -1.906649 -2.458350 -0.177097   72.480640\n",
       "8  ybmQ5  1.776292 -0.279356  3.004156  106.616832\n",
       "9  OilcN -1.214452 -0.439314  5.922514   52.954532"
      ]
     },
     "metadata": {},
     "output_type": "display_data"
    },
    {
     "data": {
      "text/html": [
       "<div>\n",
       "<style scoped>\n",
       "    .dataframe tbody tr th:only-of-type {\n",
       "        vertical-align: middle;\n",
       "    }\n",
       "\n",
       "    .dataframe tbody tr th {\n",
       "        vertical-align: top;\n",
       "    }\n",
       "\n",
       "    .dataframe thead th {\n",
       "        text-align: right;\n",
       "    }\n",
       "</style>\n",
       "<table border=\"1\" class=\"dataframe\">\n",
       "  <thead>\n",
       "    <tr style=\"text-align: right;\">\n",
       "      <th></th>\n",
       "      <th>f0</th>\n",
       "      <th>f1</th>\n",
       "      <th>f2</th>\n",
       "      <th>product</th>\n",
       "    </tr>\n",
       "  </thead>\n",
       "  <tbody>\n",
       "    <tr>\n",
       "      <th>count</th>\n",
       "      <td>100000.000000</td>\n",
       "      <td>100000.000000</td>\n",
       "      <td>100000.000000</td>\n",
       "      <td>100000.000000</td>\n",
       "    </tr>\n",
       "    <tr>\n",
       "      <th>mean</th>\n",
       "      <td>0.002023</td>\n",
       "      <td>-0.002081</td>\n",
       "      <td>2.495128</td>\n",
       "      <td>95.000000</td>\n",
       "    </tr>\n",
       "    <tr>\n",
       "      <th>std</th>\n",
       "      <td>1.732045</td>\n",
       "      <td>1.730417</td>\n",
       "      <td>3.473445</td>\n",
       "      <td>44.749921</td>\n",
       "    </tr>\n",
       "    <tr>\n",
       "      <th>min</th>\n",
       "      <td>-8.760004</td>\n",
       "      <td>-7.084020</td>\n",
       "      <td>-11.970335</td>\n",
       "      <td>0.000000</td>\n",
       "    </tr>\n",
       "    <tr>\n",
       "      <th>25%</th>\n",
       "      <td>-1.162288</td>\n",
       "      <td>-1.174820</td>\n",
       "      <td>0.130359</td>\n",
       "      <td>59.450441</td>\n",
       "    </tr>\n",
       "    <tr>\n",
       "      <th>50%</th>\n",
       "      <td>0.009424</td>\n",
       "      <td>-0.009482</td>\n",
       "      <td>2.484236</td>\n",
       "      <td>94.925613</td>\n",
       "    </tr>\n",
       "    <tr>\n",
       "      <th>75%</th>\n",
       "      <td>1.158535</td>\n",
       "      <td>1.163678</td>\n",
       "      <td>4.858794</td>\n",
       "      <td>130.595027</td>\n",
       "    </tr>\n",
       "    <tr>\n",
       "      <th>max</th>\n",
       "      <td>7.238262</td>\n",
       "      <td>7.844801</td>\n",
       "      <td>16.739402</td>\n",
       "      <td>190.029838</td>\n",
       "    </tr>\n",
       "  </tbody>\n",
       "</table>\n",
       "</div>"
      ],
      "text/plain": [
       "                  f0             f1             f2        product\n",
       "count  100000.000000  100000.000000  100000.000000  100000.000000\n",
       "mean        0.002023      -0.002081       2.495128      95.000000\n",
       "std         1.732045       1.730417       3.473445      44.749921\n",
       "min        -8.760004      -7.084020     -11.970335       0.000000\n",
       "25%        -1.162288      -1.174820       0.130359      59.450441\n",
       "50%         0.009424      -0.009482       2.484236      94.925613\n",
       "75%         1.158535       1.163678       4.858794     130.595027\n",
       "max         7.238262       7.844801      16.739402     190.029838"
      ]
     },
     "metadata": {},
     "output_type": "display_data"
    }
   ],
   "source": [
    "# Review Data for df_2\n",
    "df_2.info()\n",
    "display(df_2.shape)\n",
    "display(df_2.head(10))\n",
    "display(df_2.describe())"
   ]
  },
  {
   "cell_type": "code",
   "execution_count": 10,
   "metadata": {},
   "outputs": [
    {
     "data": {
      "text/plain": [
       "0"
      ]
     },
     "execution_count": 10,
     "metadata": {},
     "output_type": "execute_result"
    }
   ],
   "source": [
    "# Checking for duplicates\n",
    "df_2.duplicated().sum()"
   ]
  },
  {
   "cell_type": "code",
   "execution_count": 11,
   "metadata": {},
   "outputs": [
    {
     "data": {
      "text/plain": [
       "id         0\n",
       "f0         0\n",
       "f1         0\n",
       "f2         0\n",
       "product    0\n",
       "dtype: int64"
      ]
     },
     "execution_count": 11,
     "metadata": {},
     "output_type": "execute_result"
    }
   ],
   "source": [
    "# Checking for missing values\n",
    "df_1.isnull().sum()"
   ]
  },
  {
   "cell_type": "code",
   "execution_count": 40,
   "metadata": {},
   "outputs": [
    {
     "data": {
      "text/html": [
       "<div>\n",
       "<style scoped>\n",
       "    .dataframe tbody tr th:only-of-type {\n",
       "        vertical-align: middle;\n",
       "    }\n",
       "\n",
       "    .dataframe tbody tr th {\n",
       "        vertical-align: top;\n",
       "    }\n",
       "\n",
       "    .dataframe thead th {\n",
       "        text-align: right;\n",
       "    }\n",
       "</style>\n",
       "<table border=\"1\" class=\"dataframe\">\n",
       "  <thead>\n",
       "    <tr style=\"text-align: right;\">\n",
       "      <th></th>\n",
       "      <th>f0</th>\n",
       "      <th>f1</th>\n",
       "      <th>f2</th>\n",
       "      <th>product</th>\n",
       "    </tr>\n",
       "  </thead>\n",
       "  <tbody>\n",
       "    <tr>\n",
       "      <th>f0</th>\n",
       "      <td>1.000000</td>\n",
       "      <td>0.000528</td>\n",
       "      <td>-0.000448</td>\n",
       "      <td>-0.001987</td>\n",
       "    </tr>\n",
       "    <tr>\n",
       "      <th>f1</th>\n",
       "      <td>0.000528</td>\n",
       "      <td>1.000000</td>\n",
       "      <td>0.000779</td>\n",
       "      <td>-0.001012</td>\n",
       "    </tr>\n",
       "    <tr>\n",
       "      <th>f2</th>\n",
       "      <td>-0.000448</td>\n",
       "      <td>0.000779</td>\n",
       "      <td>1.000000</td>\n",
       "      <td>0.445871</td>\n",
       "    </tr>\n",
       "    <tr>\n",
       "      <th>product</th>\n",
       "      <td>-0.001987</td>\n",
       "      <td>-0.001012</td>\n",
       "      <td>0.445871</td>\n",
       "      <td>1.000000</td>\n",
       "    </tr>\n",
       "  </tbody>\n",
       "</table>\n",
       "</div>"
      ],
      "text/plain": [
       "               f0        f1        f2   product\n",
       "f0       1.000000  0.000528 -0.000448 -0.001987\n",
       "f1       0.000528  1.000000  0.000779 -0.001012\n",
       "f2      -0.000448  0.000779  1.000000  0.445871\n",
       "product -0.001987 -0.001012  0.445871  1.000000"
      ]
     },
     "execution_count": 40,
     "metadata": {},
     "output_type": "execute_result"
    }
   ],
   "source": [
    "#Checking Correlation\n",
    "df_2.corr()"
   ]
  },
  {
   "cell_type": "code",
   "execution_count": 37,
   "metadata": {},
   "outputs": [
    {
     "data": {
      "image/png": "[encoded data removed]",
      "text/plain": [
       "<Figure size 1000x1000 with 4 Axes>"
      ]
     },
     "metadata": {},
     "output_type": "display_data"
    }
   ],
   "source": [
    "#Plotting Distribution\n",
    "\n",
    "plot_hist(df_2)"
   ]
  },
  {
   "cell_type": "markdown",
   "metadata": {},
   "source": [
    "**Data Review** 3/3 Clean datasets! It's a Christmas miracle! LOL. There is also 100,000 rows and 5 columns for this data as well. \n",
    "\n",
    "We can assume that there will be outliers due to the values of the means and medians, but in the f0 and f1 columns of this data. "
   ]
  },
  {
   "cell_type": "markdown",
   "metadata": {},
   "source": [
    "## Train and Test Models"
   ]
  },
  {
   "cell_type": "markdown",
   "metadata": {},
   "source": [
    "**REGION ONE**\n"
   ]
  },
  {
   "cell_type": "code",
   "execution_count": 12,
   "metadata": {},
   "outputs": [
    {
     "name": "stdout",
     "output_type": "stream",
     "text": [
      "(75000, 3)\n",
      "(25000, 3)\n",
      "             f0        f1        f2\n",
      "27212 -0.544828  1.390264 -0.094959\n",
      "7866   1.455912 -0.480422  1.209567\n",
      "62041  0.260460  0.825069 -0.204865\n",
      "70185 -1.837105  0.010321 -0.147634\n",
      "82230 -1.299243  0.987558  1.273181\n"
     ]
    }
   ],
   "source": [
    "# Splitting Data\n",
    "train_0, valid_0 = train_test_split(df_0, test_size=0.25, random_state=12345, shuffle=True)\n",
    "\n",
    "# Training Data Split\n",
    "features_train_0 = train_0.drop(['id', 'product'], axis=1)\n",
    "target_train_0 = train_0['product']\n",
    "\n",
    "# Validation Data Split\n",
    "features_valid_0 = valid_0.drop(['id', 'product'], axis=1)\n",
    "target_valid_0 = valid_0['product']\n",
    "\n",
    "# Standardizing the Features\n",
    "numeric = ['f0', 'f1', 'f2']\n",
    "scaler = StandardScaler()\n",
    "scaler.fit(features_train_0[numeric])\n",
    "features_train_0[numeric] = scaler.transform(features_train_0[numeric])\n",
    "features_valid_0[numeric] = scaler.transform(features_valid_0[numeric])\n",
    "\n",
    "print(features_train_0.shape)\n",
    "\n",
    "print(features_valid_0.shape)\n",
    "\n",
    "print(features_train_0.head())\n",
    "\n"
   ]
  },
  {
   "cell_type": "code",
   "execution_count": 13,
   "metadata": {},
   "outputs": [
    {
     "name": "stdout",
     "output_type": "stream",
     "text": [
      "The Average Volume of Predicted Reserves in Region 1 is: 92.59256778438035\n",
      "The RMSE of the Model is: 37.5794217150813\n"
     ]
    }
   ],
   "source": [
    "# Training and Evaluating the Model\n",
    "\n",
    "#Initialization\n",
    "lr_0 = LinearRegression() \n",
    "\n",
    "#Fitting the model to the training data for df_0\n",
    "lr_0.fit(features_train_0, target_train_0)\n",
    "\n",
    "#Predicting the validation data for df_0\n",
    "lr_0_predicted = lr_0.predict(features_valid_0) \n",
    "\n",
    "#Calculating MSE of the Model\n",
    "mse_0 = mean_squared_error(target_valid_0, lr_0_predicted)\n",
    "pred_target_df_0 = pd.DataFrame({'y_pred': lr_0_predicted, 'target': target_valid_0})\n",
    "\n",
    "print('The Average Volume of Predicted Reserves in Region 1 is:', lr_0_predicted.mean())\n",
    "print('The RMSE of the Model is:', mse_0 ** 0.5 )"
   ]
  },
  {
   "cell_type": "markdown",
   "metadata": {},
   "source": [
    "**REGION TWO**"
   ]
  },
  {
   "cell_type": "code",
   "execution_count": 14,
   "metadata": {},
   "outputs": [
    {
     "name": "stdout",
     "output_type": "stream",
     "text": [
      "(75000, 3)\n",
      "(25000, 3)\n",
      "             f0        f1        f2\n",
      "27212 -0.850855  0.624428  0.296943\n",
      "7866   1.971935  1.832275  0.294333\n",
      "62041  1.079305  0.170127 -0.296418\n",
      "70185 -1.512028 -0.887837 -0.880471\n",
      "82230 -1.804775 -0.718311 -0.293255\n"
     ]
    }
   ],
   "source": [
    "# Splitting Data\n",
    "train_1, valid_1 = train_test_split(df_1, test_size=0.25, random_state=12345, shuffle=True)\n",
    "\n",
    "# Training Data Split\n",
    "features_train_1 = train_1.drop(['id', 'product'], axis=1)\n",
    "target_train_1 = train_1['product']\n",
    "\n",
    "# Validation Data Split\n",
    "features_valid_1 = valid_1.drop(['id', 'product'], axis=1)\n",
    "target_valid_1 = valid_1['product']\n",
    "\n",
    "# Standardizing the Features\n",
    "numeric = ['f0', 'f1', 'f2']\n",
    "scaler = StandardScaler()\n",
    "scaler.fit(features_train_1[numeric])\n",
    "features_train_1[numeric] = scaler.transform(features_train_1[numeric])\n",
    "features_valid_1[numeric] = scaler.transform(features_valid_1[numeric])\n",
    "\n",
    "print(features_train_1.shape)\n",
    "\n",
    "print(features_valid_1.shape)\n",
    "\n",
    "print(features_train_1.head())"
   ]
  },
  {
   "cell_type": "code",
   "execution_count": 15,
   "metadata": {},
   "outputs": [
    {
     "name": "stdout",
     "output_type": "stream",
     "text": [
      "The Average Volume of Predicted Reserves in Region 2 is: 68.728546895446\n",
      "The RMSE of the Model is: 0.893099286775617\n"
     ]
    }
   ],
   "source": [
    "# Training and Evaluating the Model\n",
    "\n",
    "#Initialization\n",
    "lr_1 = LinearRegression() \n",
    "\n",
    "#Fitting the model to the training data for df_1\n",
    "lr_1.fit(features_train_1, target_train_1)\n",
    "\n",
    "#Predicting the validation data for df_1\n",
    "lr_1_predicted = lr_1.predict(features_valid_1) \n",
    "\n",
    "#Calculating MSE of the Model\n",
    "mse_1 = mean_squared_error(target_valid_1, lr_1_predicted)\n",
    "pred_target_df_1 = pd.DataFrame({'y_pred': lr_1_predicted, 'target': target_valid_1})\n",
    "\n",
    "print('The Average Volume of Predicted Reserves in Region 2 is:', lr_1_predicted.mean())\n",
    "print('The RMSE of the Model is:', mse_1 ** 0.5 )"
   ]
  },
  {
   "cell_type": "markdown",
   "metadata": {},
   "source": [
    "**REGION THREE**"
   ]
  },
  {
   "cell_type": "code",
   "execution_count": 16,
   "metadata": {},
   "outputs": [
    {
     "name": "stdout",
     "output_type": "stream",
     "text": [
      "(75000, 3)\n",
      "(25000, 3)\n",
      "             f0        f1        f2\n",
      "27212 -0.526160  0.776329 -0.400793\n",
      "7866  -0.889625 -0.404070 -1.222936\n",
      "62041 -1.133984  0.208576  0.296765\n",
      "70185  1.227045  1.570166 -0.764556\n",
      "82230 -0.194289  0.878312  0.840821\n"
     ]
    }
   ],
   "source": [
    "# Splitting Data\n",
    "train_2, valid_2 = train_test_split(df_2, test_size=0.25, random_state=12345, shuffle=True)\n",
    "\n",
    "# Training Data Split\n",
    "features_train_2 = train_2.drop(['id', 'product'], axis=1)\n",
    "target_train_2 = train_2['product']\n",
    "\n",
    "# Validation Data Split\n",
    "features_valid_2 = valid_2.drop(['id', 'product'], axis=1)\n",
    "target_valid_2 = valid_2['product']\n",
    "\n",
    "# Standardizing the Features\n",
    "numeric = ['f0', 'f1', 'f2']\n",
    "scaler = StandardScaler()\n",
    "scaler.fit(features_train_2[numeric])\n",
    "features_train_2[numeric] = scaler.transform(features_train_2[numeric])\n",
    "features_valid_2[numeric] = scaler.transform(features_valid_2[numeric])\n",
    "\n",
    "print(features_train_2.shape)\n",
    "\n",
    "print(features_valid_2.shape)\n",
    "\n",
    "print(features_train_2.head())"
   ]
  },
  {
   "cell_type": "code",
   "execution_count": 17,
   "metadata": {},
   "outputs": [
    {
     "name": "stdout",
     "output_type": "stream",
     "text": [
      "The Average Volume of Predicted Reserves in Region 3 is: 94.96504596800489\n",
      "The RMSE of the Model is: 40.02970873393434\n"
     ]
    }
   ],
   "source": [
    "# Training and Evaluating the Model\n",
    "\n",
    "#Initialization\n",
    "lr_2 = LinearRegression() \n",
    "\n",
    "#Fitting the model to the training data for df_1\n",
    "lr_2.fit(features_train_2, target_train_2)\n",
    "\n",
    "#Predicting the validation data for df_1\n",
    "lr_2_predicted = lr_2.predict(features_valid_2) \n",
    "\n",
    "#Calculating MSE of the Model\n",
    "mse_2 = mean_squared_error(target_valid_2, lr_2_predicted) \n",
    "pred_target_df_2 = pd.DataFrame({'y_pred': lr_2_predicted, 'target': target_valid_2})\n",
    "\n",
    "print('The Average Volume of Predicted Reserves in Region 3 is:', lr_2_predicted.mean())\n",
    "print('The RMSE of the Model is:', mse_2 ** 0.5 )"
   ]
  },
  {
   "cell_type": "markdown",
   "metadata": {},
   "source": [
    "**OVERALL CONCLUSION**\n",
    "\n",
    "- The Average Volume of Predicted Reserves in Region 1 is: 92.59256778438035. The RMSE of the Model is: 37.5794217150813.\n",
    "- The Average Volume of Predicted Reserves in Region 2 is: 68.728546895446. The RMSE of the Model is: 0.893099286775617.\n",
    "- The Average Volume of Predicted Reserves in Region 3 is: 94.96504596800489. The RMSE of the Model is: 40.02970873393434.\n",
    "\n",
    "The model predicts that Region 3 will have the highest volume, with Region 2 being almost as plentiful. Compared to the other regions, the model is predicting that Region one is much lower in volume and would be significantly less profitable than the other two with the exploration data."
   ]
  },
  {
   "cell_type": "markdown",
   "metadata": {},
   "source": [
    "##  Preparing for Profit Calculations"
   ]
  },
  {
   "cell_type": "code",
   "execution_count": 18,
   "metadata": {},
   "outputs": [],
   "source": [
    "# Storing all key values for calculations in separate variables\n",
    "budget = 100000000\n",
    "unit_revenue = 4500\n",
    "top_sample = 200\n",
    "total_sample = 500"
   ]
  },
  {
   "cell_type": "code",
   "execution_count": 19,
   "metadata": {},
   "outputs": [
    {
     "name": "stdout",
     "output_type": "stream",
     "text": [
      "111.11111111111111\n"
     ]
    }
   ],
   "source": [
    "#Calculating the volume of reserves for developing new well without losses\n",
    "cost_per_point = budget / top_sample\n",
    "min_volume_product = cost_per_point / unit_revenue\n",
    "\n",
    "print(min_volume_product)"
   ]
  },
  {
   "cell_type": "markdown",
   "metadata": {},
   "source": [
    "**For the reserve to stay profitable, the revenue per point must exceed the cost per point. With my calculations above, I have found that number to be 111.11 units of product.**"
   ]
  },
  {
   "cell_type": "code",
   "execution_count": 20,
   "metadata": {},
   "outputs": [
    {
     "name": "stdout",
     "output_type": "stream",
     "text": [
      "Average Production of Region 1: 92.5\n",
      "Average Production of Region 2: 68.83\n",
      "Average Production of Region 3: 95.0\n"
     ]
    }
   ],
   "source": [
    "#Finding the average volume of reserves\n",
    "print('Average Production of Region 1:', round(df_0['product'].mean(), 2))\n",
    "print('Average Production of Region 2:', round(df_1['product'].mean(), 2))\n",
    "print('Average Production of Region 3:', round(df_2['product'].mean(), 2))"
   ]
  },
  {
   "cell_type": "markdown",
   "metadata": {},
   "source": [
    "**Since all of the averages of the wells are less than 111.11, none of the wells are predicted to return profit. :(**"
   ]
  },
  {
   "cell_type": "markdown",
   "metadata": {},
   "source": [
    "## Calculating Profit\n"
   ]
  },
  {
   "cell_type": "code",
   "execution_count": 21,
   "metadata": {},
   "outputs": [
    {
     "name": "stdout",
     "output_type": "stream",
     "text": [
      "Total Volume Top 200 Region 1: 33208260.43139851\n",
      "Total Volume Top 200 Region 2: 24150866.966815114\n",
      "Total Volume Top 200 Region 3: 27103499.635998324\n"
     ]
    }
   ],
   "source": [
    "# Writing a function to calculate profit from a set of selected oil wells and model predictions\n",
    "def profit(target, predicted):\n",
    "    predicted_sorted = predicted.sort_values(ascending=False)\n",
    "    selected_points = target[predicted_sorted.index][:200]\n",
    "    product = selected_points.sum()\n",
    "    revenue = product * unit_revenue\n",
    "    return revenue - budget\n",
    "\n",
    "#Calculating Profits per Regions\n",
    "profit_value_1 = profit(pred_target_df_0['target'],pred_target_df_0['y_pred'])\n",
    "profit_value_2 = profit(pred_target_df_1['target'],pred_target_df_1['y_pred'])\n",
    "profit_value_3 = profit(pred_target_df_2['target'],pred_target_df_2['y_pred'])\n",
    "\n",
    "print(\"Total Volume Top 200 Region 1:\", profit_value_1)\n",
    "print(\"Total Volume Top 200 Region 2:\", profit_value_2)\n",
    "print(\"Total Volume Top 200 Region 3:\", profit_value_3)"
   ]
  },
  {
   "cell_type": "markdown",
   "metadata": {},
   "source": [
    "**Based on our profit calculations, Region 1 would be most profitable while Region 2 would be the least.**"
   ]
  },
  {
   "cell_type": "markdown",
   "metadata": {},
   "source": [
    "**Oil Well Area Proposal**"
   ]
  },
  {
   "cell_type": "markdown",
   "metadata": {},
   "source": [
    "In order to propose the best option for an oil well, we need to choose the region with the highest volume of production reserves and the best prediction accuracy. \n",
    "\n",
    "After analyzing the datasets of the three regions, I found that \"Region 1\" would be the best choice for an oil well. We first found that it was second of the highest volume regions, but it's RMSE was lower than Region 3. And finally, after calculating profit, it was the highest. \n",
    "\n",
    "To confirm this, we must perform bootstrapping with a 95% confidence inteveral and a sample size of 1000. \n",
    "\n"
   ]
  },
  {
   "cell_type": "markdown",
   "metadata": {},
   "source": [
    "## Calculate Risks and Profit "
   ]
  },
  {
   "cell_type": "markdown",
   "metadata": {},
   "source": [
    "**REGION ONE**"
   ]
  },
  {
   "cell_type": "code",
   "execution_count": 22,
   "metadata": {},
   "outputs": [
    {
     "name": "stdout",
     "output_type": "stream",
     "text": [
      "Region 1\n",
      "Mean Profit: 4259385.269105923\n",
      "95% Confidence Interval: (-1020900.9483793724, 9479763.533583675)\n",
      "Risk of Negative Profit: 6.0 %\n"
     ]
    }
   ],
   "source": [
    "state = np.random.RandomState(12345)\n",
    "\n",
    "values = []\n",
    "for i in range(1000):\n",
    "    target_subsample = target_valid_0.sample(n=500, replace=True, random_state=state)\n",
    "    features_subsample = pred_target_df_0['y_pred'][target_subsample.index]\n",
    "    \n",
    "    values.append(profit(target_subsample, features_subsample))\n",
    "\n",
    "values = pd.Series(values)\n",
    "profit_mean = values.mean()\n",
    "confidence_interval = (values.quantile(.025), values.quantile(.975))\n",
    "chance_of_negative_profit = (values < 0).mean()\n",
    "\n",
    "print('Region 1')\n",
    "print('Mean Profit:', profit_mean)\n",
    "print('95% Confidence Interval:', confidence_interval)\n",
    "print('Risk of Negative Profit:', chance_of_negative_profit * 100,'%')"
   ]
  },
  {
   "cell_type": "markdown",
   "metadata": {},
   "source": [
    "**REGION TWO**\n",
    "\n"
   ]
  },
  {
   "cell_type": "code",
   "execution_count": 23,
   "metadata": {},
   "outputs": [
    {
     "name": "stdout",
     "output_type": "stream",
     "text": [
      "Region 2\n",
      "Mean Profit: 5182594.93697325\n",
      "95% Confidence Interval: (1281232.3143308456, 9536129.820669085)\n",
      "Risk of Negative Profit: 0.3 %\n"
     ]
    }
   ],
   "source": [
    "values = []\n",
    "for i in range(1000):\n",
    "    target_subsample = target_valid_1.sample(n=500, replace=True, random_state=state)\n",
    "    features_subsample = pred_target_df_1['y_pred'][target_subsample.index]\n",
    "    \n",
    "    values.append(profit(target_subsample, features_subsample))\n",
    "\n",
    "values = pd.Series(values)\n",
    "profit_mean = values.mean()\n",
    "confidence_interval = (values.quantile(.025), values.quantile(.975))\n",
    "chance_of_negative_profit = (values < 0).mean()\n",
    "\n",
    "print('Region 2')\n",
    "print('Mean Profit:', profit_mean)\n",
    "print('95% Confidence Interval:', confidence_interval)\n",
    "print('Risk of Negative Profit:', chance_of_negative_profit * 100,'%')"
   ]
  },
  {
   "cell_type": "markdown",
   "metadata": {},
   "source": [
    "**REGION THREE**"
   ]
  },
  {
   "cell_type": "code",
   "execution_count": 24,
   "metadata": {},
   "outputs": [
    {
     "name": "stdout",
     "output_type": "stream",
     "text": [
      "Region 3\n",
      "Mean Profit: 4201940.0534405\n",
      "95% Confidence Interval: (-1158526.0916001017, 9896299.398445744)\n",
      "Risk of Negative Profit: 6.2 %\n"
     ]
    }
   ],
   "source": [
    "values = []\n",
    "for i in range(1000):\n",
    "    target_subsample = target_valid_2.sample(n=500, replace=True, random_state=state)\n",
    "    features_subsample = pred_target_df_2['y_pred'][target_subsample.index]\n",
    "    \n",
    "    values.append(profit(target_subsample, features_subsample))\n",
    "\n",
    "values = pd.Series(values)\n",
    "profit_mean = values.mean()\n",
    "confidence_interval = (values.quantile(.025), values.quantile(.975))\n",
    "chance_of_negative_profit = (values < 0).mean()\n",
    "\n",
    "print('Region 3')\n",
    "print('Mean Profit:', profit_mean)\n",
    "print('95% Confidence Interval:', confidence_interval)\n",
    "print('Risk of Negative Profit:', chance_of_negative_profit * 100,'%')"
   ]
  },
  {
   "cell_type": "markdown",
   "metadata": {},
   "source": [
    "## Conclusion"
   ]
  },
  {
   "cell_type": "markdown",
   "metadata": {},
   "source": [
    "After all the calculations and analysis performed from abive, I would suggest to OilyGiant that Region TWO should be selected for the oil well.\n",
    "\n",
    "- It had the lowest predicted average volume of oil reserves, but with the lowest RMSE. \n",
    "- It was calculated to have the second highest total volume of oil reserves. \n",
    "- After bootstrapping, it was the region with the highest mean profit and lowest risk of negative profit. \n",
    "\n",
    "\n",
    "\n"
   ]
  }
 ],
 "metadata": {
  "ExecuteTimeLog": [
   {
    "duration": 3055,
    "start_time": "2024-12-13T17:22:29.007Z"
   },
   {
    "duration": 632,
    "start_time": "2024-12-13T17:27:57.790Z"
   },
   {
    "duration": 296,
    "start_time": "2024-12-13T17:28:37.161Z"
   },
   {
    "duration": 15,
    "start_time": "2024-12-13T17:29:12.232Z"
   },
   {
    "duration": 44,
    "start_time": "2024-12-13T17:29:39.516Z"
   },
   {
    "duration": 33,
    "start_time": "2024-12-13T17:30:46.636Z"
   },
   {
    "duration": 8,
    "start_time": "2024-12-13T17:31:04.090Z"
   },
   {
    "duration": 40,
    "start_time": "2024-12-13T17:40:24.019Z"
   },
   {
    "duration": 29,
    "start_time": "2024-12-13T17:40:47.803Z"
   },
   {
    "duration": 8,
    "start_time": "2024-12-13T17:41:02.569Z"
   },
   {
    "duration": 44,
    "start_time": "2024-12-13T17:47:33.974Z"
   },
   {
    "duration": 32,
    "start_time": "2024-12-13T17:47:54.115Z"
   },
   {
    "duration": 9,
    "start_time": "2024-12-13T17:49:49.127Z"
   },
   {
    "duration": 17,
    "start_time": "2024-12-13T18:14:46.781Z"
   },
   {
    "duration": 66,
    "start_time": "2024-12-13T18:15:03.890Z"
   },
   {
    "duration": 39,
    "start_time": "2024-12-13T18:16:15.418Z"
   },
   {
    "duration": 3,
    "start_time": "2024-12-13T18:16:42.779Z"
   },
   {
    "duration": 230,
    "start_time": "2024-12-13T18:16:42.789Z"
   },
   {
    "duration": 42,
    "start_time": "2024-12-13T18:16:43.021Z"
   },
   {
    "duration": 37,
    "start_time": "2024-12-13T18:16:43.066Z"
   },
   {
    "duration": 28,
    "start_time": "2024-12-13T18:16:43.105Z"
   },
   {
    "duration": 38,
    "start_time": "2024-12-13T18:16:43.136Z"
   },
   {
    "duration": 32,
    "start_time": "2024-12-13T18:16:43.176Z"
   },
   {
    "duration": 26,
    "start_time": "2024-12-13T18:16:43.210Z"
   },
   {
    "duration": 41,
    "start_time": "2024-12-13T18:16:43.238Z"
   },
   {
    "duration": 59,
    "start_time": "2024-12-13T18:16:43.280Z"
   },
   {
    "duration": 9,
    "start_time": "2024-12-13T18:16:43.340Z"
   },
   {
    "duration": 58,
    "start_time": "2024-12-13T18:16:43.350Z"
   },
   {
    "duration": 51,
    "start_time": "2024-12-13T18:16:43.411Z"
   },
   {
    "duration": 57,
    "start_time": "2024-12-13T18:17:10.620Z"
   },
   {
    "duration": 45,
    "start_time": "2024-12-13T18:22:57.640Z"
   },
   {
    "duration": 36,
    "start_time": "2024-12-13T18:24:50.519Z"
   },
   {
    "duration": 3,
    "start_time": "2024-12-13T18:30:34.732Z"
   },
   {
    "duration": 3,
    "start_time": "2024-12-13T18:30:37.967Z"
   },
   {
    "duration": 233,
    "start_time": "2024-12-13T18:30:37.972Z"
   },
   {
    "duration": 47,
    "start_time": "2024-12-13T18:30:38.207Z"
   },
   {
    "duration": 32,
    "start_time": "2024-12-13T18:30:38.256Z"
   },
   {
    "duration": 10,
    "start_time": "2024-12-13T18:30:38.291Z"
   },
   {
    "duration": 66,
    "start_time": "2024-12-13T18:30:38.302Z"
   },
   {
    "duration": 30,
    "start_time": "2024-12-13T18:30:38.370Z"
   },
   {
    "duration": 31,
    "start_time": "2024-12-13T18:30:38.401Z"
   },
   {
    "duration": 38,
    "start_time": "2024-12-13T18:30:38.434Z"
   },
   {
    "duration": 30,
    "start_time": "2024-12-13T18:30:38.474Z"
   },
   {
    "duration": 32,
    "start_time": "2024-12-13T18:30:38.506Z"
   },
   {
    "duration": 56,
    "start_time": "2024-12-13T18:30:38.540Z"
   },
   {
    "duration": 52,
    "start_time": "2024-12-13T18:30:38.597Z"
   },
   {
    "duration": 4,
    "start_time": "2024-12-13T18:34:11.801Z"
   },
   {
    "duration": 221,
    "start_time": "2024-12-13T18:34:11.807Z"
   },
   {
    "duration": 41,
    "start_time": "2024-12-13T18:34:12.030Z"
   },
   {
    "duration": 34,
    "start_time": "2024-12-13T18:34:12.072Z"
   },
   {
    "duration": 27,
    "start_time": "2024-12-13T18:34:12.108Z"
   },
   {
    "duration": 37,
    "start_time": "2024-12-13T18:34:12.137Z"
   },
   {
    "duration": 28,
    "start_time": "2024-12-13T18:34:12.175Z"
   },
   {
    "duration": 29,
    "start_time": "2024-12-13T18:34:12.205Z"
   },
   {
    "duration": 38,
    "start_time": "2024-12-13T18:34:12.236Z"
   },
   {
    "duration": 31,
    "start_time": "2024-12-13T18:34:12.275Z"
   },
   {
    "duration": 8,
    "start_time": "2024-12-13T18:34:12.332Z"
   },
   {
    "duration": 36,
    "start_time": "2024-12-13T18:34:12.342Z"
   },
   {
    "duration": 52,
    "start_time": "2024-12-13T18:34:12.380Z"
   },
   {
    "duration": 29,
    "start_time": "2024-12-13T18:36:22.355Z"
   },
   {
    "duration": 42,
    "start_time": "2024-12-13T18:39:09.991Z"
   },
   {
    "duration": 27,
    "start_time": "2024-12-13T18:39:12.588Z"
   },
   {
    "duration": 35,
    "start_time": "2024-12-13T18:39:30.515Z"
   },
   {
    "duration": 33,
    "start_time": "2024-12-13T18:43:26.079Z"
   },
   {
    "duration": 63,
    "start_time": "2024-12-13T18:43:52.802Z"
   },
   {
    "duration": 34,
    "start_time": "2024-12-13T18:43:56.716Z"
   },
   {
    "duration": 35,
    "start_time": "2024-12-13T18:45:17.787Z"
   },
   {
    "duration": 27,
    "start_time": "2024-12-13T18:45:24.844Z"
   },
   {
    "duration": 175,
    "start_time": "2024-12-13T23:13:35.946Z"
   },
   {
    "duration": 16,
    "start_time": "2024-12-13T23:15:03.577Z"
   },
   {
    "duration": 2782,
    "start_time": "2024-12-13T23:15:20.888Z"
   },
   {
    "duration": 296,
    "start_time": "2024-12-13T23:15:23.672Z"
   },
   {
    "duration": 47,
    "start_time": "2024-12-13T23:15:23.969Z"
   },
   {
    "duration": 41,
    "start_time": "2024-12-13T23:15:24.018Z"
   },
   {
    "duration": 8,
    "start_time": "2024-12-13T23:15:24.063Z"
   },
   {
    "duration": 59,
    "start_time": "2024-12-13T23:15:24.073Z"
   },
   {
    "duration": 31,
    "start_time": "2024-12-13T23:15:24.134Z"
   },
   {
    "duration": 8,
    "start_time": "2024-12-13T23:15:24.168Z"
   },
   {
    "duration": 59,
    "start_time": "2024-12-13T23:15:24.178Z"
   },
   {
    "duration": 35,
    "start_time": "2024-12-13T23:15:24.239Z"
   },
   {
    "duration": 33,
    "start_time": "2024-12-13T23:15:24.276Z"
   },
   {
    "duration": 88,
    "start_time": "2024-12-13T23:15:24.311Z"
   },
   {
    "duration": 0,
    "start_time": "2024-12-13T23:15:24.401Z"
   },
   {
    "duration": 64,
    "start_time": "2024-12-13T23:15:42.137Z"
   },
   {
    "duration": 41,
    "start_time": "2024-12-13T23:16:37.575Z"
   },
   {
    "duration": 4,
    "start_time": "2024-12-13T23:17:26.709Z"
   },
   {
    "duration": 456,
    "start_time": "2024-12-13T23:17:45.225Z"
   },
   {
    "duration": 28,
    "start_time": "2024-12-13T23:22:11.603Z"
   },
   {
    "duration": 28,
    "start_time": "2024-12-13T23:22:19.319Z"
   },
   {
    "duration": 27,
    "start_time": "2024-12-13T23:26:28.633Z"
   },
   {
    "duration": 10,
    "start_time": "2024-12-13T23:27:18.733Z"
   },
   {
    "duration": 14,
    "start_time": "2024-12-13T23:28:16.945Z"
   },
   {
    "duration": 28,
    "start_time": "2024-12-13T23:31:21.952Z"
   },
   {
    "duration": 11,
    "start_time": "2024-12-13T23:33:49.084Z"
   },
   {
    "duration": 2,
    "start_time": "2024-12-13T23:46:32.360Z"
   },
   {
    "duration": 3,
    "start_time": "2024-12-13T23:50:12.596Z"
   },
   {
    "duration": 16,
    "start_time": "2024-12-13T23:54:46.173Z"
   },
   {
    "duration": 5,
    "start_time": "2024-12-13T23:54:55.648Z"
   },
   {
    "duration": 2,
    "start_time": "2024-12-14T00:01:50.359Z"
   },
   {
    "duration": 14,
    "start_time": "2024-12-14T00:05:44.875Z"
   },
   {
    "duration": 2,
    "start_time": "2024-12-14T00:05:47.911Z"
   },
   {
    "duration": 3,
    "start_time": "2024-12-14T00:05:49.504Z"
   },
   {
    "duration": 3,
    "start_time": "2024-12-14T00:07:54.559Z"
   },
   {
    "duration": 29,
    "start_time": "2024-12-14T00:10:58.628Z"
   },
   {
    "duration": 15,
    "start_time": "2024-12-14T00:14:27.004Z"
   },
   {
    "duration": 3,
    "start_time": "2024-12-14T00:14:29.652Z"
   },
   {
    "duration": 2,
    "start_time": "2024-12-14T00:14:31.211Z"
   },
   {
    "duration": 6,
    "start_time": "2024-12-14T00:14:38.295Z"
   },
   {
    "duration": 28,
    "start_time": "2024-12-14T00:15:44.155Z"
   },
   {
    "duration": 27,
    "start_time": "2024-12-14T00:17:43.307Z"
   },
   {
    "duration": 16,
    "start_time": "2024-12-14T00:18:20.901Z"
   },
   {
    "duration": 860,
    "start_time": "2024-12-14T00:36:54.147Z"
   },
   {
    "duration": 839,
    "start_time": "2024-12-14T00:37:08.721Z"
   },
   {
    "duration": 835,
    "start_time": "2024-12-14T00:40:32.440Z"
   },
   {
    "duration": 3,
    "start_time": "2024-12-14T00:40:56.605Z"
   },
   {
    "duration": 250,
    "start_time": "2024-12-14T00:40:56.610Z"
   },
   {
    "duration": 39,
    "start_time": "2024-12-14T00:40:56.862Z"
   },
   {
    "duration": 37,
    "start_time": "2024-12-14T00:40:56.903Z"
   },
   {
    "duration": 8,
    "start_time": "2024-12-14T00:40:56.942Z"
   },
   {
    "duration": 60,
    "start_time": "2024-12-14T00:40:56.951Z"
   },
   {
    "duration": 28,
    "start_time": "2024-12-14T00:40:57.013Z"
   },
   {
    "duration": 7,
    "start_time": "2024-12-14T00:40:57.043Z"
   },
   {
    "duration": 63,
    "start_time": "2024-12-14T00:40:57.054Z"
   },
   {
    "duration": 32,
    "start_time": "2024-12-14T00:40:57.118Z"
   },
   {
    "duration": 8,
    "start_time": "2024-12-14T00:40:57.152Z"
   },
   {
    "duration": 50,
    "start_time": "2024-12-14T00:40:57.161Z"
   },
   {
    "duration": 21,
    "start_time": "2024-12-14T00:40:57.213Z"
   },
   {
    "duration": 107,
    "start_time": "2024-12-14T00:40:57.236Z"
   },
   {
    "duration": 64,
    "start_time": "2024-12-14T00:40:57.345Z"
   },
   {
    "duration": 113,
    "start_time": "2024-12-14T00:40:57.411Z"
   },
   {
    "duration": 9,
    "start_time": "2024-12-14T00:40:57.526Z"
   },
   {
    "duration": 2,
    "start_time": "2024-12-14T00:40:57.537Z"
   },
   {
    "duration": 3,
    "start_time": "2024-12-14T00:40:57.540Z"
   },
   {
    "duration": 65,
    "start_time": "2024-12-14T00:40:57.545Z"
   },
   {
    "duration": 21,
    "start_time": "2024-12-14T00:40:57.613Z"
   },
   {
    "duration": 935,
    "start_time": "2024-12-14T00:40:57.636Z"
   },
   {
    "duration": 848,
    "start_time": "2024-12-14T00:40:58.573Z"
   },
   {
    "duration": 2,
    "start_time": "2024-12-14T00:41:02.193Z"
   },
   {
    "duration": 225,
    "start_time": "2024-12-14T00:41:02.200Z"
   },
   {
    "duration": 42,
    "start_time": "2024-12-14T00:41:02.427Z"
   },
   {
    "duration": 51,
    "start_time": "2024-12-14T00:41:02.471Z"
   },
   {
    "duration": 12,
    "start_time": "2024-12-14T00:41:02.524Z"
   },
   {
    "duration": 38,
    "start_time": "2024-12-14T00:41:02.539Z"
   },
   {
    "duration": 54,
    "start_time": "2024-12-14T00:41:02.579Z"
   },
   {
    "duration": 8,
    "start_time": "2024-12-14T00:41:02.635Z"
   },
   {
    "duration": 38,
    "start_time": "2024-12-14T00:41:02.645Z"
   },
   {
    "duration": 53,
    "start_time": "2024-12-14T00:41:02.685Z"
   },
   {
    "duration": 7,
    "start_time": "2024-12-14T00:41:02.740Z"
   },
   {
    "duration": 28,
    "start_time": "2024-12-14T00:41:02.749Z"
   },
   {
    "duration": 35,
    "start_time": "2024-12-14T00:41:02.779Z"
   },
   {
    "duration": 105,
    "start_time": "2024-12-14T00:41:02.816Z"
   },
   {
    "duration": 10,
    "start_time": "2024-12-14T00:41:02.925Z"
   },
   {
    "duration": 170,
    "start_time": "2024-12-14T00:41:02.939Z"
   },
   {
    "duration": 10,
    "start_time": "2024-12-14T00:41:03.111Z"
   },
   {
    "duration": 3,
    "start_time": "2024-12-14T00:41:03.122Z"
   },
   {
    "duration": 3,
    "start_time": "2024-12-14T00:41:03.127Z"
   },
   {
    "duration": 5,
    "start_time": "2024-12-14T00:41:03.132Z"
   },
   {
    "duration": 87,
    "start_time": "2024-12-14T00:41:03.138Z"
   },
   {
    "duration": 891,
    "start_time": "2024-12-14T00:41:03.227Z"
   },
   {
    "duration": 863,
    "start_time": "2024-12-14T00:41:04.120Z"
   },
   {
    "duration": 3,
    "start_time": "2024-12-14T00:41:10.833Z"
   },
   {
    "duration": 221,
    "start_time": "2024-12-14T00:41:10.838Z"
   },
   {
    "duration": 48,
    "start_time": "2024-12-14T00:41:11.062Z"
   },
   {
    "duration": 35,
    "start_time": "2024-12-14T00:41:11.111Z"
   },
   {
    "duration": 9,
    "start_time": "2024-12-14T00:41:11.148Z"
   },
   {
    "duration": 63,
    "start_time": "2024-12-14T00:41:11.158Z"
   },
   {
    "duration": 30,
    "start_time": "2024-12-14T00:41:11.223Z"
   },
   {
    "duration": 8,
    "start_time": "2024-12-14T00:41:11.254Z"
   },
   {
    "duration": 60,
    "start_time": "2024-12-14T00:41:11.264Z"
   },
   {
    "duration": 32,
    "start_time": "2024-12-14T00:41:11.326Z"
   },
   {
    "duration": 8,
    "start_time": "2024-12-14T00:41:11.362Z"
   },
   {
    "duration": 44,
    "start_time": "2024-12-14T00:41:11.373Z"
   },
   {
    "duration": 13,
    "start_time": "2024-12-14T00:41:11.419Z"
   },
   {
    "duration": 99,
    "start_time": "2024-12-14T00:41:11.435Z"
   },
   {
    "duration": 75,
    "start_time": "2024-12-14T00:41:11.536Z"
   },
   {
    "duration": 100,
    "start_time": "2024-12-14T00:41:11.613Z"
   },
   {
    "duration": 11,
    "start_time": "2024-12-14T00:41:11.715Z"
   },
   {
    "duration": 2,
    "start_time": "2024-12-14T00:41:11.728Z"
   },
   {
    "duration": 5,
    "start_time": "2024-12-14T00:41:11.734Z"
   },
   {
    "duration": 5,
    "start_time": "2024-12-14T00:41:11.809Z"
   },
   {
    "duration": 18,
    "start_time": "2024-12-14T00:41:11.816Z"
   },
   {
    "duration": 892,
    "start_time": "2024-12-14T00:41:11.835Z"
   },
   {
    "duration": 852,
    "start_time": "2024-12-14T00:41:12.729Z"
   },
   {
    "duration": 850,
    "start_time": "2024-12-14T00:41:39.307Z"
   },
   {
    "duration": 4,
    "start_time": "2024-12-14T00:56:08.126Z"
   },
   {
    "duration": 226,
    "start_time": "2024-12-14T00:56:08.134Z"
   },
   {
    "duration": 55,
    "start_time": "2024-12-14T00:56:08.363Z"
   },
   {
    "duration": 52,
    "start_time": "2024-12-14T00:56:08.420Z"
   },
   {
    "duration": 11,
    "start_time": "2024-12-14T00:56:08.474Z"
   },
   {
    "duration": 50,
    "start_time": "2024-12-14T00:56:08.487Z"
   },
   {
    "duration": 29,
    "start_time": "2024-12-14T00:56:08.539Z"
   },
   {
    "duration": 8,
    "start_time": "2024-12-14T00:56:08.570Z"
   },
   {
    "duration": 62,
    "start_time": "2024-12-14T00:56:08.580Z"
   },
   {
    "duration": 32,
    "start_time": "2024-12-14T00:56:08.644Z"
   },
   {
    "duration": 9,
    "start_time": "2024-12-14T00:56:08.678Z"
   },
   {
    "duration": 45,
    "start_time": "2024-12-14T00:56:08.688Z"
   },
   {
    "duration": 14,
    "start_time": "2024-12-14T00:56:08.736Z"
   },
   {
    "duration": 157,
    "start_time": "2024-12-14T00:56:08.752Z"
   },
   {
    "duration": 11,
    "start_time": "2024-12-14T00:56:08.913Z"
   },
   {
    "duration": 99,
    "start_time": "2024-12-14T00:56:08.926Z"
   },
   {
    "duration": 10,
    "start_time": "2024-12-14T00:56:09.027Z"
   },
   {
    "duration": 3,
    "start_time": "2024-12-14T00:56:09.109Z"
   },
   {
    "duration": 3,
    "start_time": "2024-12-14T00:56:09.114Z"
   },
   {
    "duration": 9,
    "start_time": "2024-12-14T00:56:09.119Z"
   },
   {
    "duration": 90,
    "start_time": "2024-12-14T00:56:09.131Z"
   },
   {
    "duration": 873,
    "start_time": "2024-12-14T00:56:09.223Z"
   },
   {
    "duration": 854,
    "start_time": "2024-12-14T00:56:10.098Z"
   },
   {
    "duration": 855,
    "start_time": "2024-12-14T00:56:10.954Z"
   },
   {
    "duration": 2831,
    "start_time": "2024-12-14T04:32:10.606Z"
   },
   {
    "duration": 325,
    "start_time": "2024-12-14T04:32:13.439Z"
   },
   {
    "duration": 44,
    "start_time": "2024-12-14T04:32:13.766Z"
   },
   {
    "duration": 32,
    "start_time": "2024-12-14T04:32:13.812Z"
   },
   {
    "duration": 9,
    "start_time": "2024-12-14T04:32:13.847Z"
   },
   {
    "duration": 65,
    "start_time": "2024-12-14T04:32:13.857Z"
   },
   {
    "duration": 33,
    "start_time": "2024-12-14T04:32:13.924Z"
   },
   {
    "duration": 26,
    "start_time": "2024-12-14T04:32:13.960Z"
   },
   {
    "duration": 40,
    "start_time": "2024-12-14T04:32:13.988Z"
   },
   {
    "duration": 33,
    "start_time": "2024-12-14T04:32:14.030Z"
   },
   {
    "duration": 27,
    "start_time": "2024-12-14T04:32:14.065Z"
   },
   {
    "duration": 28,
    "start_time": "2024-12-14T04:32:14.093Z"
   },
   {
    "duration": 65,
    "start_time": "2024-12-14T04:32:14.124Z"
   },
   {
    "duration": 109,
    "start_time": "2024-12-14T04:32:14.193Z"
   },
   {
    "duration": 13,
    "start_time": "2024-12-14T04:32:14.304Z"
   },
   {
    "duration": 166,
    "start_time": "2024-12-14T04:32:14.322Z"
   },
   {
    "duration": 12,
    "start_time": "2024-12-14T04:32:14.489Z"
   },
   {
    "duration": 6,
    "start_time": "2024-12-14T04:32:14.503Z"
   },
   {
    "duration": 3,
    "start_time": "2024-12-14T04:32:14.511Z"
   },
   {
    "duration": 71,
    "start_time": "2024-12-14T04:32:14.515Z"
   },
   {
    "duration": 21,
    "start_time": "2024-12-14T04:32:14.588Z"
   },
   {
    "duration": 914,
    "start_time": "2024-12-14T04:32:14.611Z"
   },
   {
    "duration": 862,
    "start_time": "2024-12-14T04:32:15.527Z"
   },
   {
    "duration": 853,
    "start_time": "2024-12-14T04:32:16.391Z"
   },
   {
    "duration": 2705,
    "start_time": "2024-12-14T05:25:10.272Z"
   },
   {
    "duration": 340,
    "start_time": "2024-12-14T05:25:12.980Z"
   },
   {
    "duration": 44,
    "start_time": "2024-12-14T05:25:13.322Z"
   },
   {
    "duration": 43,
    "start_time": "2024-12-14T05:25:13.369Z"
   },
   {
    "duration": 8,
    "start_time": "2024-12-14T05:25:13.414Z"
   },
   {
    "duration": 38,
    "start_time": "2024-12-14T05:25:13.424Z"
   },
   {
    "duration": 35,
    "start_time": "2024-12-14T05:25:13.486Z"
   },
   {
    "duration": 9,
    "start_time": "2024-12-14T05:25:13.523Z"
   },
   {
    "duration": 63,
    "start_time": "2024-12-14T05:25:13.534Z"
   },
   {
    "duration": 31,
    "start_time": "2024-12-14T05:25:13.600Z"
   },
   {
    "duration": 7,
    "start_time": "2024-12-14T05:25:13.633Z"
   },
   {
    "duration": 27,
    "start_time": "2024-12-14T05:25:13.641Z"
   },
   {
    "duration": 22,
    "start_time": "2024-12-14T05:25:13.686Z"
   },
   {
    "duration": 99,
    "start_time": "2024-12-14T05:25:13.713Z"
   },
   {
    "duration": 75,
    "start_time": "2024-12-14T05:25:13.814Z"
   },
   {
    "duration": 101,
    "start_time": "2024-12-14T05:25:13.892Z"
   },
   {
    "duration": 10,
    "start_time": "2024-12-14T05:25:13.995Z"
   },
   {
    "duration": 2,
    "start_time": "2024-12-14T05:25:14.007Z"
   },
   {
    "duration": 3,
    "start_time": "2024-12-14T05:25:14.012Z"
   },
   {
    "duration": 70,
    "start_time": "2024-12-14T05:25:14.017Z"
   },
   {
    "duration": 23,
    "start_time": "2024-12-14T05:25:14.089Z"
   },
   {
    "duration": 931,
    "start_time": "2024-12-14T05:25:14.114Z"
   },
   {
    "duration": 853,
    "start_time": "2024-12-14T05:25:15.047Z"
   },
   {
    "duration": 848,
    "start_time": "2024-12-14T05:25:15.903Z"
   },
   {
    "duration": 2,
    "start_time": "2024-12-14T05:28:39.208Z"
   },
   {
    "duration": 353,
    "start_time": "2024-12-14T05:31:20.147Z"
   },
   {
    "duration": 365,
    "start_time": "2024-12-14T05:32:30.121Z"
   },
   {
    "duration": 442,
    "start_time": "2024-12-14T05:32:53.839Z"
   },
   {
    "duration": 11,
    "start_time": "2024-12-14T05:34:16.553Z"
   },
   {
    "duration": 10,
    "start_time": "2024-12-14T05:34:44.230Z"
   },
   {
    "duration": 12,
    "start_time": "2024-12-14T05:35:03.678Z"
   }
  ],
  "kernelspec": {
   "display_name": "Python 3 (ipykernel)",
   "language": "python",
   "name": "python3"
  },
  "language_info": {
   "codemirror_mode": {
    "name": "ipython",
    "version": 3
   },
   "file_extension": ".py",
   "mimetype": "text/x-python",
   "name": "python",
   "nbconvert_exporter": "python",
   "pygments_lexer": "ipython3",
   "version": "3.9.19"
  },
  "toc": {
   "base_numbering": 1,
   "nav_menu": {},
   "number_sections": true,
   "sideBar": true,
   "skip_h1_title": true,
   "title_cell": "Table of Contents",
   "title_sidebar": "Contents",
   "toc_cell": false,
   "toc_position": {},
   "toc_section_display": true,
   "toc_window_display": false
  }
 },
 "nbformat": 4,
 "nbformat_minor": 2
}
